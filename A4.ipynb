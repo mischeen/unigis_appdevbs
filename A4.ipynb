{
 "cells": [
  {
   "cell_type": "markdown",
   "id": "1f959bed",
   "metadata": {},
   "source": [
    "# Assignment A3\n",
    "This Jupyter Notebook file is very simple. First, a shapefile is loaded using\n",
    "GeoPandas and then visualized."
   ]
  },
  {
   "cell_type": "code",
   "execution_count": 3,
   "id": "aa228c6a",
   "metadata": {},
   "outputs": [],
   "source": [
    "import geopandas as gpd\n",
    "FILE = r\"D:\\UNIGIS_professional\\02_module\\exercises\\ex3.2_modifying_geometries\\platz_vertices.shp\"\n",
    "gdf = gpd.read_file(FILE)"
   ]
  }
 ],
 "metadata": {
  "kernelspec": {
   "display_name": "Python (unigis_venv)",
   "language": "python",
   "name": "unigis_venv"
  },
  "language_info": {
   "codemirror_mode": {
    "name": "ipython",
    "version": 3
   },
   "file_extension": ".py",
   "mimetype": "text/x-python",
   "name": "python",
   "nbconvert_exporter": "python",
   "pygments_lexer": "ipython3",
   "version": "3.12.8"
  }
 },
 "nbformat": 4,
 "nbformat_minor": 5
}
