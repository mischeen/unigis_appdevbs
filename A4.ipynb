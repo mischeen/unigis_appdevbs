{
 "cells": [
  {
   "cell_type": "markdown",
   "id": "1f959bed",
   "metadata": {},
   "source": [
    "# Assignment A3\n",
    "This Jupyter Notebook file is very simple. First, a shapefile is loaded using\n",
    "GeoPandas and then visualized."
   ]
  }
 ],
 "metadata": {
  "kernelspec": {
   "display_name": "Python (unigis_venv)",
   "language": "python",
   "name": "unigis_venv"
  },
  "language_info": {
   "name": "python",
   "version": "3.12.8"
  }
 },
 "nbformat": 4,
 "nbformat_minor": 5
}
